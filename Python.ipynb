{
  "nbformat": 4,
  "nbformat_minor": 0,
  "metadata": {
    "colab": {
      "name": "Python.ipynb",
      "provenance": [],
      "authorship_tag": "ABX9TyPjVrlj8+1wGhWwESHHAN0f",
      "include_colab_link": true
    },
    "kernelspec": {
      "name": "python3",
      "display_name": "Python 3"
    }
  },
  "cells": [
    {
      "cell_type": "markdown",
      "metadata": {
        "id": "view-in-github",
        "colab_type": "text"
      },
      "source": [
        "<a href=\"https://colab.research.google.com/github/Ritik30071999/AccomFind/blob/master/Python.ipynb\" target=\"_parent\"><img src=\"https://colab.research.google.com/assets/colab-badge.svg\" alt=\"Open In Colab\"/></a>"
      ]
    },
    {
      "cell_type": "code",
      "metadata": {
        "id": "5YqAGHfqWtdb",
        "colab_type": "code",
        "colab": {
          "base_uri": "https://localhost:8080/",
          "height": 34
        },
        "outputId": "c2e2bf5e-67a8-4f09-adfb-e25c5fa83998"
      },
      "source": [
        "a=60\n",
        "b=50\n",
        "print(a^b)"
      ],
      "execution_count": 1,
      "outputs": [
        {
          "output_type": "stream",
          "text": [
            "14\n"
          ],
          "name": "stdout"
        }
      ]
    },
    {
      "cell_type": "code",
      "metadata": {
        "id": "V4BAbVqGXQHd",
        "colab_type": "code",
        "colab": {
          "base_uri": "https://localhost:8080/",
          "height": 34
        },
        "outputId": "8d491f63-9845-4a2c-fd57-5421b0733d3a"
      },
      "source": [
        "l=[1,2,3,4,5]\n",
        "print(3 in l)"
      ],
      "execution_count": 3,
      "outputs": [
        {
          "output_type": "stream",
          "text": [
            "True\n"
          ],
          "name": "stdout"
        }
      ]
    },
    {
      "cell_type": "code",
      "metadata": {
        "id": "l5ktMza4YPsJ",
        "colab_type": "code",
        "colab": {
          "base_uri": "https://localhost:8080/",
          "height": 84
        },
        "outputId": "039e9482-d04c-4e9f-8e3d-eccd0b7983ed"
      },
      "source": [
        "a=30\n",
        "b=30\n",
        "c=30\n",
        "d=30\n",
        "e=30\n",
        "print(a is b)\n",
        "print(b is c)\n",
        "print(c is d)\n",
        "print(c is not e)"
      ],
      "execution_count": 11,
      "outputs": [
        {
          "output_type": "stream",
          "text": [
            "True\n",
            "True\n",
            "True\n",
            "False\n"
          ],
          "name": "stdout"
        }
      ]
    },
    {
      "cell_type": "code",
      "metadata": {
        "id": "MdcZW_0AYmEs",
        "colab_type": "code",
        "colab": {
          "base_uri": "https://localhost:8080/",
          "height": 34
        },
        "outputId": "dbfce6f0-7a61-476f-ce08-cc329fa880f6"
      },
      "source": [
        "a=\"Hello Python\"\n",
        "print(\"Hello\" in a)"
      ],
      "execution_count": 6,
      "outputs": [
        {
          "output_type": "stream",
          "text": [
            "True\n"
          ],
          "name": "stdout"
        }
      ]
    },
    {
      "cell_type": "code",
      "metadata": {
        "id": "ciUM6RABZrK7",
        "colab_type": "code",
        "colab": {
          "base_uri": "https://localhost:8080/",
          "height": 34
        },
        "outputId": "d41dbcd5-54ec-4d8d-b5fc-971f1140c035"
      },
      "source": [
        "a=5\n",
        "b=2\n",
        "c=6\n",
        "a**b+c"
      ],
      "execution_count": 12,
      "outputs": [
        {
          "output_type": "execute_result",
          "data": {
            "text/plain": [
              "31"
            ]
          },
          "metadata": {
            "tags": []
          },
          "execution_count": 12
        }
      ]
    },
    {
      "cell_type": "code",
      "metadata": {
        "id": "iv3Z88jfamsW",
        "colab_type": "code",
        "colab": {
          "base_uri": "https://localhost:8080/",
          "height": 50
        },
        "outputId": "3d561f77-5a17-4bb5-ea55-7d0c250b5ecc"
      },
      "source": [
        "x=[[1,2,3],[4,5,6]]\n",
        "print(x[0])\n",
        "print(x[0][0])"
      ],
      "execution_count": 13,
      "outputs": [
        {
          "output_type": "stream",
          "text": [
            "[1, 2, 3]\n",
            "1\n"
          ],
          "name": "stdout"
        }
      ]
    },
    {
      "cell_type": "code",
      "metadata": {
        "id": "2-1SWGDwe7Vf",
        "colab_type": "code",
        "colab": {
          "base_uri": "https://localhost:8080/",
          "height": 34
        },
        "outputId": "bbf3cc67-5b7f-427a-842f-24b75af4b20e"
      },
      "source": [
        "x=[1,2,3,4,5]\n",
        "del x[2]\n",
        "list(x)"
      ],
      "execution_count": 16,
      "outputs": [
        {
          "output_type": "execute_result",
          "data": {
            "text/plain": [
              "[1, 2, 4, 5]"
            ]
          },
          "metadata": {
            "tags": []
          },
          "execution_count": 16
        }
      ]
    },
    {
      "cell_type": "code",
      "metadata": {
        "id": "aNJEbt0BfG18",
        "colab_type": "code",
        "colab": {
          "base_uri": "https://localhost:8080/",
          "height": 84
        },
        "outputId": "0a559bec-8ecb-4251-9493-88d78664e151"
      },
      "source": [
        "x=[1,23,\"hello\",3.5]\n",
        "print(x[:])\n",
        "print(x[:-1])\n",
        "print(x[0:7])\n",
        "print(x[-1:])"
      ],
      "execution_count": 17,
      "outputs": [
        {
          "output_type": "stream",
          "text": [
            "[1, 23, 'hello', 3.5]\n",
            "[1, 23, 'hello']\n",
            "[1, 23, 'hello', 3.5]\n",
            "[3.5]\n"
          ],
          "name": "stdout"
        }
      ]
    },
    {
      "cell_type": "code",
      "metadata": {
        "id": "9OL8wohtgJwo",
        "colab_type": "code",
        "colab": {
          "base_uri": "https://localhost:8080/",
          "height": 84
        },
        "outputId": "a603ee4a-21c1-4f36-be96-075b41d6f68a"
      },
      "source": [
        "x=[1,23,\"hello\",3.5]\n",
        "i=0\n",
        "for val in x:\n",
        "  print(x[i])\n",
        "  i+=1"
      ],
      "execution_count": 20,
      "outputs": [
        {
          "output_type": "stream",
          "text": [
            "1\n",
            "23\n",
            "hello\n",
            "3.5\n"
          ],
          "name": "stdout"
        }
      ]
    },
    {
      "cell_type": "code",
      "metadata": {
        "id": "L30-iu1YhAAI",
        "colab_type": "code",
        "colab": {
          "base_uri": "https://localhost:8080/",
          "height": 67
        },
        "outputId": "88bc2191-b07c-4428-d49d-09e2839a50c8"
      },
      "source": [
        "l=[1,21,67,8,23,17]\n",
        "x=[9,8,7,6,5,4]\n",
        "l.sort()\n",
        "print(l)\n",
        "print(17 in l)\n",
        "l.append(x)\n",
        "list(l)"
      ],
      "execution_count": 25,
      "outputs": [
        {
          "output_type": "stream",
          "text": [
            "[1, 8, 17, 21, 23, 67]\n",
            "True\n"
          ],
          "name": "stdout"
        },
        {
          "output_type": "execute_result",
          "data": {
            "text/plain": [
              "[1, 8, 17, 21, 23, 67, [9, 8, 7, 6, 5, 4]]"
            ]
          },
          "metadata": {
            "tags": []
          },
          "execution_count": 25
        }
      ]
    },
    {
      "cell_type": "code",
      "metadata": {
        "id": "9pbmK-bXjDRd",
        "colab_type": "code",
        "colab": {
          "base_uri": "https://localhost:8080/",
          "height": 50
        },
        "outputId": "f7877c03-b5b9-4081-e794-c826a0b6929c"
      },
      "source": [
        "x=\"Python has many applications\"\n",
        "a=x[:6]\n",
        "b=x[16:]\n",
        "print(a)\n",
        "print(b)"
      ],
      "execution_count": 29,
      "outputs": [
        {
          "output_type": "stream",
          "text": [
            "Python\n",
            "applications\n"
          ],
          "name": "stdout"
        }
      ]
    },
    {
      "cell_type": "code",
      "metadata": {
        "id": "ZC-qz2cXqVFE",
        "colab_type": "code",
        "colab": {
          "base_uri": "https://localhost:8080/",
          "height": 50
        },
        "outputId": "1cafabde-ffa0-4516-8724-faf59258a227"
      },
      "source": [
        "l=[1,23,\"hello\",3.5]\n",
        "l1=(1,23,'hello',3.5)\n",
        "l2=tuple(l)\n",
        "l3=list(l1)\n",
        "print(l2)\n",
        "print(l3)"
      ],
      "execution_count": 30,
      "outputs": [
        {
          "output_type": "stream",
          "text": [
            "(1, 23, 'hello', 3.5)\n",
            "[1, 23, 'hello', 3.5]\n"
          ],
          "name": "stdout"
        }
      ]
    },
    {
      "cell_type": "code",
      "metadata": {
        "id": "fJgZZHPpzUGy",
        "colab_type": "code",
        "colab": {
          "base_uri": "https://localhost:8080/",
          "height": 101
        },
        "outputId": "6cc2d656-0f84-4dc3-ece0-0c48dcf34bac"
      },
      "source": [
        "for i in range(10):\n",
        "  if i==5:\n",
        "    break\n",
        "  else:\n",
        "    print(i)\n",
        "else:\n",
        "  print(\"Here\")      "
      ],
      "execution_count": 32,
      "outputs": [
        {
          "output_type": "stream",
          "text": [
            "0\n",
            "1\n",
            "2\n",
            "3\n",
            "4\n"
          ],
          "name": "stdout"
        }
      ]
    },
    {
      "cell_type": "code",
      "metadata": {
        "id": "R0IVUetu0VoT",
        "colab_type": "code",
        "colab": {
          "base_uri": "https://localhost:8080/",
          "height": 118
        },
        "outputId": "97f4c117-150c-4b84-ed6a-0d877966663e"
      },
      "source": [
        "for i in range(5):\n",
        "  if i==5:\n",
        "    break\n",
        "  else:\n",
        "    print(i)\n",
        "else:\n",
        "  print(\"Here\")      "
      ],
      "execution_count": 33,
      "outputs": [
        {
          "output_type": "stream",
          "text": [
            "0\n",
            "1\n",
            "2\n",
            "3\n",
            "4\n",
            "Here\n"
          ],
          "name": "stdout"
        }
      ]
    },
    {
      "cell_type": "code",
      "metadata": {
        "id": "6PgAAAYm0bRa",
        "colab_type": "code",
        "colab": {
          "base_uri": "https://localhost:8080/",
          "height": 67
        },
        "outputId": "bcd3447f-e421-4703-b566-dd8d62bf4a5d"
      },
      "source": [
        "x=(i for i in range(3))\n",
        "for i in x:\n",
        "  print(i)"
      ],
      "execution_count": 34,
      "outputs": [
        {
          "output_type": "stream",
          "text": [
            "0\n",
            "1\n",
            "2\n"
          ],
          "name": "stdout"
        }
      ]
    },
    {
      "cell_type": "code",
      "metadata": {
        "id": "0YX_vkzp2goq",
        "colab_type": "code",
        "colab": {
          "base_uri": "https://localhost:8080/",
          "height": 84
        },
        "outputId": "d8229c68-6803-454c-e455-61a34211595d"
      },
      "source": [
        "a = [0, 1, 2, 3]\n",
        "for a[-1] in a:\n",
        "    print(a[-1])"
      ],
      "execution_count": 37,
      "outputs": [
        {
          "output_type": "stream",
          "text": [
            "0\n",
            "1\n",
            "2\n",
            "2\n"
          ],
          "name": "stdout"
        }
      ]
    }
  ]
}